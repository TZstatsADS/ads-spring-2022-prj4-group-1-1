{
 "cells": [
  {
   "cell_type": "code",
   "execution_count": 1,
   "id": "854ef0c5",
   "metadata": {},
   "outputs": [],
   "source": [
    "import pandas as pd \n",
    "import numpy as np\n",
    "from sklearn.utils import shuffle\n",
    "from sklearn.metrics import log_loss\n",
    "from scipy import optimize\n",
    "import copy\n",
    "import itertools\n",
    "import math\n",
    "from sklearn.svm import SVC\n",
    "from sklearn.utils import shuffle\n",
    "from scipy.optimize import minimize\n",
    "from sklearn.linear_model import LogisticRegression"
   ]
  },
  {
   "cell_type": "code",
   "execution_count": 2,
   "id": "6ac3d28b",
   "metadata": {},
   "outputs": [],
   "source": [
    "data = pd.read_csv('compas-scores-two-years.csv')"
   ]
  },
  {
   "cell_type": "code",
   "execution_count": 3,
   "id": "b27f65aa",
   "metadata": {},
   "outputs": [
    {
     "name": "stderr",
     "output_type": "stream",
     "text": [
      "<ipython-input-3-a5eb1a764a8f>:5: SettingWithCopyWarning: \n",
      "A value is trying to be set on a copy of a slice from a DataFrame.\n",
      "Try using .loc[row_indexer,col_indexer] = value instead\n",
      "\n",
      "See the caveats in the documentation: https://pandas.pydata.org/pandas-docs/stable/user_guide/indexing.html#returning-a-view-versus-a-copy\n",
      "  data_subset[\"two_year_recid\"] = data[\"two_year_recid\"].apply(lambda x: -1 if x==0 else 1)\n"
     ]
    }
   ],
   "source": [
    "# data preprocessing\n",
    "\n",
    "data.dropna()\n",
    "data_subset = data[['sex','age','race', 'juv_misd_count', 'juv_fel_count','priors_count', 'decile_score','two_year_recid']]\n",
    "data_subset[\"two_year_recid\"] = data[\"two_year_recid\"].apply(lambda x: -1 if x==0 else 1)\n",
    "\n",
    "#selecting race Caucusian / African American and encoding to 0/1\n",
    "\n",
    "data_subset = data_subset[(data_subset[\"race\"]=='Caucasian') |(data_subset[\"race\"]=='African-American') ]\n",
    "data_subset[\"race_cat\"] = data_subset[\"race\"].apply(lambda x: 1 if x == \"Caucasian\" else 0)\n",
    "data_subset = data_subset.drop(columns = \"race\")\n",
    "\n",
    "# encoding gender to 0/1\n",
    "\n",
    "data_subset[\"gender_cat\"] = data_subset[\"sex\"].apply(lambda x: 1 if x == \"Female\" else 0)\n",
    "data_subset = data_subset.drop(columns = \"sex\")\n",
    "\n",
    "y = data_subset[\"two_year_recid\"]\n",
    "protected = data_subset[\"race_cat\"]\n",
    "data2 = data_subset.drop(columns=[\"two_year_recid\",\"race_cat\"])\n",
    "\n",
    "y, protected_attr, data2 = shuffle(y, protected, data2, random_state = 0)"
   ]
  },
  {
   "cell_type": "code",
   "execution_count": 4,
   "id": "c3cd9fa0",
   "metadata": {},
   "outputs": [],
   "source": [
    "train = int(len(data2)*.80)\n",
    "x_train, y_train, race_train = data2[:train], y[:train], protected[:train]\n",
    "x_test, y_test, race_test = data2[train:], y[train:],protected[train:]"
   ]
  },
  {
   "cell_type": "code",
   "execution_count": 5,
   "id": "6fec3936",
   "metadata": {},
   "outputs": [
    {
     "name": "stdout",
     "output_type": "stream",
     "text": [
      "Logistic Regression Accuracy: 0.6752032520325203\n"
     ]
    }
   ],
   "source": [
    "clf = LogisticRegression(random_state=0).fit(x_train, y_train)\n",
    "print(f\"Logistic Regression Accuracy: {clf.score(x_train, y_train)}\")\n",
    "coeff = clf.coef_\n",
    "intercept = clf.intercept_\n",
    "optimal_loss = log_loss(y_train, clf.predict_proba(x_train))"
   ]
  },
  {
   "cell_type": "code",
   "execution_count": 6,
   "id": "ab4cb3ba",
   "metadata": {},
   "outputs": [
    {
     "name": "stdout",
     "output_type": "stream",
     "text": [
      "Logistic Regression Accuracy: 0.6829268292682927\n"
     ]
    }
   ],
   "source": [
    "print(f\"Logistic Regression Accuracy: {clf.score(x_test, y_test)}\")"
   ]
  },
  {
   "cell_type": "code",
   "execution_count": 7,
   "id": "3d0adc9d",
   "metadata": {},
   "outputs": [],
   "source": [
    "def p_rule(race, predicted_y):\n",
    "    \n",
    "    not_protected = np.where(race != 1)[0]\n",
    "    protected = np.where(race == 1)[0] \n",
    "    protected_preds = np.where(predicted_y[protected] == 1)\n",
    "    nonpro_preds = np.where(predicted_y[not_protected] == 1)\n",
    "    protected_perc = (protected_preds[0].shape[0]/protected.shape[0])\n",
    "    nonpro_perc = (nonpro_preds[0].shape[0]/not_protected.shape[0])\n",
    "    perc_ratio = protected_perc/nonpro_perc\n",
    "    return perc_ratio, protected_perc, nonpro_perc"
   ]
  },
  {
   "cell_type": "code",
   "execution_count": 8,
   "id": "fcc75569",
   "metadata": {},
   "outputs": [
    {
     "name": "stdout",
     "output_type": "stream",
     "text": [
      "P-rule: (1.0074129744132818, 0.410958904109589, 0.40793489318413023)\n"
     ]
    }
   ],
   "source": [
    "print(f\"P-rule: {p_rule(race_train, clf.predict(x_train))}\")"
   ]
  },
  {
   "cell_type": "code",
   "execution_count": 9,
   "id": "8291a15d",
   "metadata": {},
   "outputs": [
    {
     "data": {
      "text/plain": [
       "(0.9684216636674987, 0.4161490683229814, 0.42971887550200805)"
      ]
     },
     "execution_count": 9,
     "metadata": {},
     "output_type": "execute_result"
    }
   ],
   "source": [
    "p_rule(race_test, clf.predict(x_test))"
   ]
  }
 ],
 "metadata": {
  "kernelspec": {
   "display_name": "Python 3",
   "language": "python",
   "name": "python3"
  },
  "language_info": {
   "codemirror_mode": {
    "name": "ipython",
    "version": 3
   },
   "file_extension": ".py",
   "mimetype": "text/x-python",
   "name": "python",
   "nbconvert_exporter": "python",
   "pygments_lexer": "ipython3",
   "version": "3.8.12"
  }
 },
 "nbformat": 4,
 "nbformat_minor": 5
}
