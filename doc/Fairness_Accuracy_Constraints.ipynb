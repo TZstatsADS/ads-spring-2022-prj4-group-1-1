{
 "cells": [
  {
   "cell_type": "code",
   "execution_count": 1,
   "metadata": {
    "colab": {
     "base_uri": "https://localhost:8080/"
    },
    "id": "swnDsDIBtxLa",
    "outputId": "fa545c10-7c33-4631-8bee-27c5e9afe3a6"
   },
   "outputs": [],
   "source": [
    "import pandas as pd \n",
    "from sklearn.linear_model import LogisticRegression\n",
    "from sklearn.model_selection import train_test_split\n",
    "from sklearn.utils import shuffle\n",
    "import numpy as np\n",
    "from sklearn.metrics import log_loss\n",
    "from scipy import optimize\n",
    "import copy\n",
    "import itertools\n",
    "import math\n",
    "from sklearn.svm import SVC\n",
    "import warnings\n",
    "import matplotlib.pyplot as plt\n",
    "\n",
    "warnings.filterwarnings('ignore')\n",
    "\n",
    "df_bank = pd.read_csv('../data/bank-full.csv',delimiter = \";\")\n",
    "compas = pd.read_csv('https://raw.githubusercontent.com/propublica/compas-analysis/master/compas-scores-two-years.csv')"
   ]
  },
  {
   "cell_type": "markdown",
   "metadata": {
    "id": "IE9_XDy1gPPw"
   },
   "source": [
    "# Data clean"
   ]
  },
  {
   "cell_type": "code",
   "execution_count": 2,
   "metadata": {
    "id": "MvxylvPPH0vY"
   },
   "outputs": [],
   "source": [
    "# subset y\n",
    "true_y = np.where(df_bank[\"y\"] == \"yes\",1,-1)\n",
    "# subset z\n",
    "age = np.where((25 <= df_bank[\"age\"]) & (df_bank[\"age\"] <= 60),1,0)\n",
    "\n",
    "def bankdata_process(df_bank):\n",
    "\n",
    "    #binary variables, 1 for yes and 0 for no.\n",
    "    df_bank[\"default\"] = df_bank[\"default\"].apply(lambda x:1 if x == \"yes\" else 0)\n",
    "    df_bank[\"housing\"] = df_bank[\"housing\"].apply(lambda x:1 if x == \"yes\" else 0)\n",
    "    df_bank[\"loan\"] = df_bank[\"loan\"].apply(lambda x:1 if x == \"yes\" else 0)\n",
    "    df_bank = df_bank.drop(columns = [\"age\", \"y\", \"day\", \"month\"])\n",
    "\n",
    "    #other variables with more than two categories, use one hot encoding\n",
    "    cols = ['job', 'marital', 'education','contact','poutcome', 'campaign']\n",
    "    for c in cols: \n",
    "        dummies = pd.get_dummies(df_bank[c])\n",
    "        df_bank = df_bank.join(dummies, rsuffix = '_'+ c)\n",
    "        df_bank = df_bank.drop(columns = [c])\n",
    "    return df_bank.to_numpy()\n",
    "\n",
    "#5-fold cross validattion, train 70%, test 30%\n",
    "#train and test data\n",
    "X,y,age = shuffle(bankdata_process(df_bank),true_y,age, random_state = 0)\n",
    "x_train,x_test,y_train, y_test = train_test_split(X, y, test_size = 0.3, shuffle = False)\n",
    "train_index = int(len(X)*.70) \n",
    "age_train, age_test = age[:train_index],age[train_index:]\n"
   ]
  },
  {
   "cell_type": "code",
   "execution_count": 3,
   "metadata": {
    "id": "iHn4Vl3Cgmcu"
   },
   "outputs": [],
   "source": [
    "# Useful functions\n",
    "\n",
    "# p-percent rule\n",
    "def p_rule(attr_var, predicted_y):\n",
    "  protected_indx = np.where(attr_var == 1)\n",
    "  not_protected_indx = np.where(attr_var != 1)\n",
    "\n",
    "  protected_positive = np.where(predicted_y[protected_indx] == 1)\n",
    "  not_protected_positive = np.where(predicted_y[not_protected_indx] == 1)\n",
    "\n",
    "  pro_percentage = protected_positive[0].shape[0]/protected_indx[0].shape[0]\n",
    "  notpro_percentage = not_protected_positive[0].shape[0]/not_protected_indx[0].shape[0]\n",
    "\n",
    "  p_val = pro_percentage/notpro_percentage\n",
    "  return p_val, pro_percentage, notpro_percentage\n",
    "\n",
    "def add_ones(df):\n",
    "  len_df = df.shape[0]\n",
    "  ones_df = np.ones(len_df).reshape(len_df, 1)\n",
    "  return(np.concatenate((df, ones_df), axis = 1))\n",
    "\n",
    "def sigmoid(t):\n",
    "  return(1/(1 + np.exp(-t)))\n",
    "\n",
    "def accuracy(params, x, y):\n",
    "  h = sigmoid(np.dot(x, params.reshape(x.shape[1],1)))\n",
    "  h[h>=0.5] = 1\n",
    "  h[h<0.5] = -1\n",
    "  correct = np.where(h == y.reshape(h.shape))\n",
    "  return(correct[0].shape[0]/h.shape[0]), h\n"
   ]
  },
  {
   "cell_type": "markdown",
   "metadata": {
    "id": "a6DatruMhiu7"
   },
   "source": [
    "# Models"
   ]
  },
  {
   "cell_type": "code",
   "execution_count": 4,
   "metadata": {
    "colab": {
     "base_uri": "https://localhost:8080/"
    },
    "id": "Gw_cceB5mB08",
    "outputId": "51468d89-2ed6-45cb-ae76-254dc90a6f86"
   },
   "outputs": [
    {
     "name": "stdout",
     "output_type": "stream",
     "text": [
      "Accuracy on training data: 0.8996745347110311\n",
      "P%-rule value on training data: (0.27198505340431867, 0.05029595582156675, 0.18492176386913228)\n",
      "Accuracy on testing data: 0.9016514302565615\n",
      "P%-rule value on testing data: (0.2926768077094808, 0.05249364063824867, 0.1793570219966159)\n"
     ]
    }
   ],
   "source": [
    "# LR model without constraints - Optimal coefficients\n",
    "clf = LogisticRegression(random_state=0, max_iter = 500).fit(x_train, y_train)\n",
    "\n",
    "print(f'Accuracy on training data: {clf.score(x_train, y_train)}')\n",
    "print(f'P%-rule value on training data: {p_rule(age_train,clf.predict(x_train))}')\n",
    "print(f'Accuracy on testing data: {clf.score(x_test, y_test)}')\n",
    "print(f'P%-rule value on testing data: {p_rule(age_test,clf.predict(x_test))}')"
   ]
  },
  {
   "cell_type": "code",
   "execution_count": 5,
   "metadata": {
    "id": "DQuP2VfDwJFF"
   },
   "outputs": [],
   "source": [
    "# modify df, prepare parameters\n",
    "opt_loss = log_loss(y_train, clf.predict_proba(x_train))\n",
    "opt_params = np.concatenate((clf.coef_, clf.intercept_.reshape(1, 1)), axis = 1)\n",
    "x_train = add_ones(x_train)\n",
    "x_test = add_ones(x_test)"
   ]
  },
  {
   "cell_type": "code",
   "execution_count": 6,
   "metadata": {
    "id": "J2AuNChC4w4q"
   },
   "outputs": [],
   "source": [
    "# loss function\n",
    "def loss_fun(params, x, y):\n",
    "  h = sigmoid(np.dot(x, params.reshape(x.shape[1],1)))\n",
    "  pred_prob = np.concatenate((1-h, h), axis = 1)\n",
    "  return(log_loss(y, pred_prob))\n",
    "\n",
    "# set constrain and loss functions\n",
    "def gamma_constrain(params, x, y, gamma, opt_loss):\n",
    "  h = sigmoid(np.dot(x, params.reshape(x.shape[1],1)))\n",
    "  pred_prob = np.concatenate((1-h, h), axis = 1)\n",
    "  loss = log_loss(y, pred_prob)\n",
    "  return(opt_loss*(1+gamma) - loss)\n",
    "\n",
    "def opt_function(params, x, z):\n",
    "  dist = np.dot(params, x.T)\n",
    "  ind_cov = (z - np.mean(z))*dist\n",
    "  return abs(sum(ind_cov) / x.shape[0])\n",
    "\n",
    "# Make single optimization\n",
    "def lr_single_constrain(x, y, z, gamma, opt_params, opt_loss):\n",
    "  constraints = []\n",
    "  cons = {'type': 'ineq', 'fun': gamma_constrain, 'args': (x, y, gamma, opt_loss)}\n",
    "  optimizer = optimize.minimize(opt_function, x0 = opt_params, \n",
    "                             args = (x, z), method = 'SLSQP',\n",
    "                             constraints = cons, options = {'maxiter': 10000})\n",
    "  return(optimizer.x)\n",
    "\n",
    "# test for our single optimizer\n",
    "def eval_lr_constrain(x, y, z, params):\n",
    "  accuracy_val, pred = accuracy(params, x, y)\n",
    "  p_rule_val, prot_perc, nprot_perc = p_rule(z, pred)\n",
    "  return accuracy_val, p_rule_val, prot_perc, nprot_perc\n",
    "\n",
    "# multiple gamma\n",
    "def lr_mult_constrain(x, y, z, x_test, y_test, z_test, opt_params, opt_loss, gamma):\n",
    "  accuracy_l, p_rule_l, prot_perc_l, nprot_perc_l, loss_l = [], [], [], [], []\n",
    "  accuracy_lt, p_rule_lt, prot_perc_lt, nprot_perc_lt, loss_lt = [], [], [], [], []\n",
    "  for g in gamma:\n",
    "    params = lr_single_constrain(x, y, z, g, opt_params, opt_loss)\n",
    "    # for train eval\n",
    "    acc, p, prot, nprot = eval_lr_constrain(x, y, z, params)\n",
    "    los = loss_fun(params, x, y)\n",
    "    accuracy_lt.append(acc)\n",
    "    p_rule_lt.append(p)\n",
    "    prot_perc_lt.append(prot)\n",
    "    nprot_perc_lt.append(nprot)\n",
    "    loss_lt.append(los)\n",
    "    # for test eval\n",
    "    acc, p, prot, nprot = eval_lr_constrain(x_test, y_test, z_test, params)\n",
    "    los = loss_fun(params, x_test, y_test)\n",
    "    accuracy_l.append(acc)\n",
    "    p_rule_l.append(p)\n",
    "    prot_perc_l.append(prot)\n",
    "    nprot_perc_l.append(nprot)\n",
    "    loss_l.append(los)\n",
    "  result = pd.DataFrame({'gamma': gamma, 'accuracy_train': accuracy_lt,\n",
    "                         'p_rule_value_train': p_rule_lt, 'loss_train': loss_lt,\n",
    "                         'protected_pos_pec_train': prot_perc_lt,\n",
    "                         'not_protected_pos_pec_train': nprot_perc_lt,\n",
    "                         'accuracy': accuracy_l,\n",
    "                         'p_rule_value': p_rule_l, 'loss': loss_l,\n",
    "                         'protected_pos_pec': prot_perc_l,\n",
    "                         'not_protected_pos_pec': nprot_perc_l})\n",
    "  return(result)"
   ]
  },
  {
   "cell_type": "code",
   "execution_count": 8,
   "metadata": {
    "id": "RcKzg0Alo3Oq"
   },
   "outputs": [],
   "source": [
    "# eval_df = lr_mult_constrain(x_train, y_train, age_train, x_test,\n",
    "#                   y_test, age_test, opt_params, opt_loss, gamma = [0.1, 0.3, 0.6])"
   ]
  },
  {
   "cell_type": "markdown",
   "metadata": {
    "id": "SxjCbSVt0O-g"
   },
   "source": [
    "# Compus"
   ]
  },
  {
   "cell_type": "code",
   "execution_count": 7,
   "metadata": {
    "id": "BpKrxodN0OUp"
   },
   "outputs": [],
   "source": [
    "compas.dropna()\n",
    "\n",
    "#subset race restricted to Caucasian and African American\n",
    "sub_race = [\"Caucasian\",\"African-American\"]\n",
    "compas_df = compas[compas[\"race\"].isin(sub_race)] #6150 observations\n",
    "compas_df = compas_df[[\"sex\",\"age_cat\",\"race\",\"priors_count\",\"c_charge_degree\",\"c_jail_in\", \"c_jail_out\",'two_year_recid']]\n",
    "compas_df[\"two_year_recid\"] = compas_df[\"two_year_recid\"].apply(lambda x: -1 if x==0 else 1)\n",
    "\n",
    "#binary sensitive attribute \n",
    "\n",
    "\n",
    "#encode other variables\n",
    "compas_df[\"sex\"] = compas_df[\"sex\"].apply(lambda x: 1 if x == \"Male\" else 0)\n",
    "compas_df[\"c_charge_degree\"] = compas_df[\"c_charge_degree\"].apply(lambda x: 1 if x == \"F\" else 0)\n",
    "\n",
    "compas_df[\"priors_count\"] = compas_df[\"priors_count\"].apply(lambda x: 0 if x==0 else x)\n",
    "compas_df[\"priors_count\"] = compas_df[\"priors_count\"].apply(lambda x: 1 if (1<=x<=3) else x)\n",
    "compas_df[\"priors_count\"] = compas_df[\"priors_count\"].apply(lambda x: 2 if x>3 else x)\n",
    "\n",
    "#Calculate length of stay from jail out - jail in \n",
    "compas_df[\"length_stay\"] = pd.to_datetime(compas_df[\"c_jail_out\"]) - pd.to_datetime(compas_df['c_jail_in'])\n",
    "compas_df[\"length_stay\"] = compas_df[\"length_stay\"].apply(lambda x: x.days)\n",
    "compas_df = compas_df.drop(columns = [\"c_jail_in\",\"c_jail_out\"])\n",
    "compas_df['length_stay'] = compas_df[\"length_stay\"].apply(lambda x: 0 if x <= 7 else x)\n",
    "compas_df['length_stay'] = compas_df[\"length_stay\"].apply(lambda x: 1 if 7< x <= 90 else x)\n",
    "compas_df['length_stay'] = compas_df[\"length_stay\"].apply(lambda x: 2 if x > 90 else x)\n",
    "\n",
    "#One hot encode age_cat \n",
    "dummies = pd.get_dummies(compas_df[\"age_cat\"])\n",
    "compas_df = pd.merge(compas_df, dummies, left_index = True, right_index = True)\n",
    "compas_df = compas_df.dropna()\n",
    "\n",
    "y = compas_df[\"two_year_recid\"].to_numpy()\n",
    "race = np.where(compas_df[\"race\"] == \"Caucasian\",1,0)\n",
    "compas_df = compas_df.drop(columns = [\"age_cat\",\"two_year_recid\",\"race\"])\n",
    "X = compas_df.to_numpy()\n",
    "X,y,race = shuffle(X,y,race,random_state = 0)\n",
    "\n",
    "x_train,x_test,y_train, y_test = train_test_split(X, y, test_size = 0.3, shuffle = False)\n",
    "train_index = int(len(X)*.70) \n",
    "race_train, race_test = race[:train_index],race[train_index:]"
   ]
  },
  {
   "cell_type": "code",
   "execution_count": 8,
   "metadata": {
    "colab": {
     "base_uri": "https://localhost:8080/"
    },
    "id": "5iKQ40Sm0a63",
    "outputId": "2dca8aa8-3aac-4fb8-b5a5-ae132f941019"
   },
   "outputs": [
    {
     "name": "stdout",
     "output_type": "stream",
     "text": [
      "Accuracy on training data: 0.6615942028985508\n",
      "P%-rule value on training data: (0.5986970102632754, 0.32590361445783134, 0.5443548387096774)\n",
      "Accuracy on testing data: 0.6676056338028169\n",
      "P%-rule value on testing data: (0.631646923885071, 0.34540389972144847, 0.5468306527909177)\n"
     ]
    }
   ],
   "source": [
    "clf = LogisticRegression(random_state=0).fit(x_train, y_train)\n",
    "\n",
    "print(f'Accuracy on training data: {clf.score(x_train, y_train)}')\n",
    "print(f'P%-rule value on training data: {p_rule(race_train,clf.predict(x_train))}')\n",
    "print(f'Accuracy on testing data: {clf.score(x_test, y_test)}')\n",
    "print(f'P%-rule value on testing data: {p_rule(race_test,clf.predict(x_test))}')"
   ]
  },
  {
   "cell_type": "code",
   "execution_count": 9,
   "metadata": {
    "id": "e3qQ2FRb0kKi"
   },
   "outputs": [],
   "source": [
    "opt_loss = log_loss(y_train, clf.predict_proba(x_train))\n",
    "opt_params = np.concatenate((clf.coef_, clf.intercept_.reshape(1, 1)), axis = 1)\n",
    "x_train = add_ones(x_train)\n",
    "x_test = add_ones(x_test)"
   ]
  },
  {
   "cell_type": "code",
   "execution_count": 10,
   "metadata": {
    "colab": {
     "base_uri": "https://localhost:8080/",
     "height": 394
    },
    "id": "WhAkv2sO0pBd",
    "outputId": "27cc8829-b210-429f-a389-ab2967bc4391"
   },
   "outputs": [
    {
     "data": {
      "text/html": [
       "<div>\n",
       "<style scoped>\n",
       "    .dataframe tbody tr th:only-of-type {\n",
       "        vertical-align: middle;\n",
       "    }\n",
       "\n",
       "    .dataframe tbody tr th {\n",
       "        vertical-align: top;\n",
       "    }\n",
       "\n",
       "    .dataframe thead th {\n",
       "        text-align: right;\n",
       "    }\n",
       "</style>\n",
       "<table border=\"1\" class=\"dataframe\">\n",
       "  <thead>\n",
       "    <tr style=\"text-align: right;\">\n",
       "      <th></th>\n",
       "      <th>0</th>\n",
       "      <th>1</th>\n",
       "      <th>2</th>\n",
       "      <th>3</th>\n",
       "      <th>4</th>\n",
       "      <th>5</th>\n",
       "    </tr>\n",
       "  </thead>\n",
       "  <tbody>\n",
       "    <tr>\n",
       "      <th>gamma</th>\n",
       "      <td>0.050000</td>\n",
       "      <td>0.060000</td>\n",
       "      <td>0.070000</td>\n",
       "      <td>0.080000</td>\n",
       "      <td>0.090000</td>\n",
       "      <td>0.100000</td>\n",
       "    </tr>\n",
       "    <tr>\n",
       "      <th>accuracy_train</th>\n",
       "      <td>0.633816</td>\n",
       "      <td>0.621739</td>\n",
       "      <td>0.579469</td>\n",
       "      <td>0.575121</td>\n",
       "      <td>0.541787</td>\n",
       "      <td>0.537923</td>\n",
       "    </tr>\n",
       "    <tr>\n",
       "      <th>p_rule_value_train</th>\n",
       "      <td>0.690338</td>\n",
       "      <td>0.767032</td>\n",
       "      <td>0.950238</td>\n",
       "      <td>0.989673</td>\n",
       "      <td>1.109866</td>\n",
       "      <td>1.147847</td>\n",
       "    </tr>\n",
       "    <tr>\n",
       "      <th>loss_train</th>\n",
       "      <td>0.653342</td>\n",
       "      <td>0.659564</td>\n",
       "      <td>0.665787</td>\n",
       "      <td>0.672009</td>\n",
       "      <td>0.678154</td>\n",
       "      <td>0.684453</td>\n",
       "    </tr>\n",
       "    <tr>\n",
       "      <th>protected_pos_pec_train</th>\n",
       "      <td>0.315663</td>\n",
       "      <td>0.345783</td>\n",
       "      <td>0.329518</td>\n",
       "      <td>0.346386</td>\n",
       "      <td>0.346386</td>\n",
       "      <td>0.233735</td>\n",
       "    </tr>\n",
       "    <tr>\n",
       "      <th>not_protected_pos_pec_train</th>\n",
       "      <td>0.457258</td>\n",
       "      <td>0.450806</td>\n",
       "      <td>0.346774</td>\n",
       "      <td>0.350000</td>\n",
       "      <td>0.312097</td>\n",
       "      <td>0.203629</td>\n",
       "    </tr>\n",
       "    <tr>\n",
       "      <th>accuracy</th>\n",
       "      <td>0.635493</td>\n",
       "      <td>0.621972</td>\n",
       "      <td>0.563944</td>\n",
       "      <td>0.562254</td>\n",
       "      <td>0.527887</td>\n",
       "      <td>0.518310</td>\n",
       "    </tr>\n",
       "    <tr>\n",
       "      <th>p_rule_value</th>\n",
       "      <td>0.624031</td>\n",
       "      <td>0.677244</td>\n",
       "      <td>0.808951</td>\n",
       "      <td>0.834458</td>\n",
       "      <td>0.925460</td>\n",
       "      <td>0.882045</td>\n",
       "    </tr>\n",
       "    <tr>\n",
       "      <th>loss</th>\n",
       "      <td>0.658876</td>\n",
       "      <td>0.665361</td>\n",
       "      <td>0.671625</td>\n",
       "      <td>0.677823</td>\n",
       "      <td>0.684401</td>\n",
       "      <td>0.695813</td>\n",
       "    </tr>\n",
       "    <tr>\n",
       "      <th>protected_pos_pec</th>\n",
       "      <td>0.306407</td>\n",
       "      <td>0.328691</td>\n",
       "      <td>0.309192</td>\n",
       "      <td>0.318942</td>\n",
       "      <td>0.330084</td>\n",
       "      <td>0.197772</td>\n",
       "    </tr>\n",
       "    <tr>\n",
       "      <th>not_protected_pos_pec</th>\n",
       "      <td>0.491012</td>\n",
       "      <td>0.485336</td>\n",
       "      <td>0.382214</td>\n",
       "      <td>0.382214</td>\n",
       "      <td>0.356670</td>\n",
       "      <td>0.224219</td>\n",
       "    </tr>\n",
       "  </tbody>\n",
       "</table>\n",
       "</div>"
      ],
      "text/plain": [
       "                                    0         1         2         3         4  \\\n",
       "gamma                        0.050000  0.060000  0.070000  0.080000  0.090000   \n",
       "accuracy_train               0.633816  0.621739  0.579469  0.575121  0.541787   \n",
       "p_rule_value_train           0.690338  0.767032  0.950238  0.989673  1.109866   \n",
       "loss_train                   0.653342  0.659564  0.665787  0.672009  0.678154   \n",
       "protected_pos_pec_train      0.315663  0.345783  0.329518  0.346386  0.346386   \n",
       "not_protected_pos_pec_train  0.457258  0.450806  0.346774  0.350000  0.312097   \n",
       "accuracy                     0.635493  0.621972  0.563944  0.562254  0.527887   \n",
       "p_rule_value                 0.624031  0.677244  0.808951  0.834458  0.925460   \n",
       "loss                         0.658876  0.665361  0.671625  0.677823  0.684401   \n",
       "protected_pos_pec            0.306407  0.328691  0.309192  0.318942  0.330084   \n",
       "not_protected_pos_pec        0.491012  0.485336  0.382214  0.382214  0.356670   \n",
       "\n",
       "                                    5  \n",
       "gamma                        0.100000  \n",
       "accuracy_train               0.537923  \n",
       "p_rule_value_train           1.147847  \n",
       "loss_train                   0.684453  \n",
       "protected_pos_pec_train      0.233735  \n",
       "not_protected_pos_pec_train  0.203629  \n",
       "accuracy                     0.518310  \n",
       "p_rule_value                 0.882045  \n",
       "loss                         0.695813  \n",
       "protected_pos_pec            0.197772  \n",
       "not_protected_pos_pec        0.224219  "
      ]
     },
     "execution_count": 10,
     "metadata": {},
     "output_type": "execute_result"
    }
   ],
   "source": [
    "gamma = [0.05, 0.06, 0.07, 0.08 , 0.09, .1]\n",
    "eval_df = lr_mult_constrain(x_train, y_train, race_train, x_test,\n",
    "                  y_test, race_test, opt_params, opt_loss, gamma)\n",
    "eval_df.T\n",
    "# protected group is caucasion here"
   ]
  },
  {
   "cell_type": "markdown",
   "metadata": {
    "id": "LPKpB25vy33i"
   },
   "source": [
    "# Graph"
   ]
  },
  {
   "cell_type": "code",
   "execution_count": 11,
   "metadata": {
    "id": "j8OEMShx-_pV"
   },
   "outputs": [],
   "source": [
    "def two_line_plot(gamma, x1, x2, title = 'default', labels = ['x1_label', 'x2_label'], \n",
    "                  color = ['deeppink', 'blue']):\n",
    "  fig, ax1 = plt.subplots()\n",
    "  ax2 = ax1.twinx()\n",
    "  ax1.plot(gamma, x1, color[0])\n",
    "  ax2.plot(gamma, x2, color[1])\n",
    "  ax1.set_title(title)\n",
    "  ax1.set_xlabel('Multiplicative loss factor (gamma)')\n",
    "  ax1.set_ylabel(labels[0], color=color[0])\n",
    "  ax2.set_ylabel(labels[1], color=color[1])\n",
    "  return plt.show()"
   ]
  },
  {
   "cell_type": "code",
   "execution_count": 12,
   "metadata": {
    "colab": {
     "base_uri": "https://localhost:8080/",
     "height": 573
    },
    "id": "In-yZfcQAm9u",
    "outputId": "69cddb1f-35fc-4f52-fb1a-cabfbe03abf9"
   },
   "outputs": [
    {
     "data": {
      "image/png": "[encoded data removed]",
      "text/plain": [
       "<Figure size 432x288 with 2 Axes>"
      ]
     },
     "metadata": {
      "needs_background": "light"
     },
     "output_type": "display_data"
    },
    {
     "data": {
      "image/png": "[encoded data removed]",
      "text/plain": [
       "<Figure size 432x288 with 2 Axes>"
      ]
     },
     "metadata": {
      "needs_background": "light"
     },
     "output_type": "display_data"
    }
   ],
   "source": [
    "two_line_plot(gamma, eval_df.accuracy_train, eval_df.p_rule_value_train,\n",
    "              title = 'Train Accuracy vs. P%-Rule',\n",
    "              labels = ['Accuracy', 'p%-rule'])\n",
    "\n",
    "two_line_plot(gamma, eval_df.accuracy, eval_df.p_rule_value,\n",
    "              title = 'Test Accuracy vs. P%-Rule',\n",
    "              labels = ['Accuracy', 'p%-rule'])"
   ]
  },
  {
   "cell_type": "code",
   "execution_count": 13,
   "metadata": {
    "colab": {
     "base_uri": "https://localhost:8080/",
     "height": 573
    },
    "id": "PszCHX9E7kqS",
    "outputId": "b3e681e1-e65d-4663-eac5-461be680c896"
   },
   "outputs": [
    {
     "data": {
      "image/png": "[encoded data removed]",
      "text/plain": [
       "<Figure size 432x288 with 2 Axes>"
      ]
     },
     "metadata": {
      "needs_background": "light"
     },
     "output_type": "display_data"
    },
    {
     "data": {
      "image/png": "[encoded data removed]",
      "text/plain": [
       "<Figure size 432x288 with 2 Axes>"
      ]
     },
     "metadata": {
      "needs_background": "light"
     },
     "output_type": "display_data"
    }
   ],
   "source": [
    "two_line_plot(gamma, eval_df.protected_pos_pec_train, eval_df.not_protected_pos_pec_train,\n",
    "              title = 'Train Positive Percentage for Protected vs. Non-Protected Group',\n",
    "              labels = ['% for Protect Group', '% for Non-Protect Group'], color = ['purple', 'green'])\n",
    "\n",
    "two_line_plot(gamma, eval_df.protected_pos_pec, eval_df.not_protected_pos_pec,\n",
    "              title = 'Test Positive Percentage for Protected vs. Non-Protected Group',\n",
    "              labels = ['% for Protect Group', '% for Non-Protect Group'], color = ['purple', 'green'])\n"
   ]
  }
 ],
 "metadata": {
  "colab": {
   "collapsed_sections": [],
   "name": "Copy of FairnessUnderAccuracyConstraints.ipynb",
   "provenance": []
  },
  "kernelspec": {
   "display_name": "Python 3 (ipykernel)",
   "language": "python",
   "name": "python3"
  },
  "language_info": {
   "codemirror_mode": {
    "name": "ipython",
    "version": 3
   },
   "file_extension": ".py",
   "mimetype": "text/x-python",
   "name": "python",
   "nbconvert_exporter": "python",
   "pygments_lexer": "ipython3",
   "version": "3.9.7"
  }
 },
 "nbformat": 4,
 "nbformat_minor": 1
}
