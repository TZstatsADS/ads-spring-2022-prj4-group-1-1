{
  "nbformat": 4,
  "nbformat_minor": 0,
  "metadata": {
    "colab": {
      "name": "Untitled0.ipynb",
      "provenance": [],
      "collapsed_sections": []
    },
    "kernelspec": {
      "name": "python3",
      "display_name": "Python 3"
    },
    "language_info": {
      "name": "python"
    }
  },
  "cells": [
    {
      "cell_type": "markdown",
      "source": [
        "A2: Maximizing accuracy under fairness constraints (C-SVM and C-LR)\n",
        "\n",
        "Original paper, Fairness Constraints: Mechanisms for Fair Classification, can be found here: https://arxiv.org/pdf/1507.05259.pdf\n",
        "\n",
        "This code, assuming necessary dependencies are installed, should run fully without the need to download any dataset (COMPAS) or change file paths. It also runs successfully on Google Colab as of April 2022 (Version 3). \n",
        "\n",
        "For timing, our group elected to run all notebooks on the same machine. This notebook should take approximately 10 seconds to run in Google Colab, and anywhere from 5-20 seconds locally depending on your processor."
      ],
      "metadata": {
        "id": "vyVowPUW50xy"
      }
    },
    {
      "cell_type": "code",
      "execution_count": 1,
      "metadata": {
        "id": "G53JgoQdenW7"
      },
      "outputs": [],
      "source": [
        "import numpy as np\n",
        "from random import seed, shuffle\n",
        "from scipy.optimize import minimize # for loss func minimization\n",
        "from collections import defaultdict\n",
        "import matplotlib.pyplot as plt # for plotting stuff\n",
        "import pandas as pd\n",
        "from sklearn.model_selection import train_test_split\n",
        "from sklearn.svm import SVC\n",
        "from sklearn.model_selection import train_test_split\n",
        "from sklearn.metrics import classification_report, confusion_matrix\n",
        "from copy import deepcopy"
      ]
    },
    {
      "cell_type": "code",
      "source": [
        "# Logistic regression prints lots of unfriendly warnings for the final notebook\n",
        "import warnings\n",
        "warnings.filterwarnings('ignore')"
      ],
      "metadata": {
        "id": "dzpbKkQfTybE"
      },
      "execution_count": 2,
      "outputs": []
    },
    {
      "cell_type": "code",
      "source": [
        "# for google colab\n",
        "#from google.colab import drive\n",
        "#drive.mount('/content/drive')\n",
        "#df = pd.read_csv('/content/drive/MyDrive/ADS_Proj4/compas-scores-two-years.csv')\n",
        "\n",
        "# For local\n",
        "#df = pd.read_csv('compas-scores-two-years.csv')\n",
        "\n",
        "#universal \n",
        "df = pd.read_csv('https://raw.githubusercontent.com/propublica/compas-analysis/master/compas-scores-two-years.csv')\n"
      ],
      "metadata": {
        "id": "JXM_UTWWergi"
      },
      "execution_count": 3,
      "outputs": []
    },
    {
      "cell_type": "code",
      "source": [
        "df.columns\n",
        "df.hist(column = 'age')"
      ],
      "metadata": {
        "colab": {
          "base_uri": "https://localhost:8080/",
          "height": 316
        },
        "id": "JF0yIwWhohDT",
        "outputId": "ada61d1d-633c-4d6f-88cd-143516209241"
      },
      "execution_count": 4,
      "outputs": [
        {
          "output_type": "execute_result",
          "data": {
            "text/plain": [
              "array([[<matplotlib.axes._subplots.AxesSubplot object at 0x7f1523338610>]],\n",
              "      dtype=object)"
            ]
          },
          "metadata": {},
          "execution_count": 4
        },
        {
          "output_type": "display_data",
          "data": {
            "text/plain": [
              "<Figure size 432x288 with 1 Axes>"
            ],
            "image/png": "[encoded data removed]"
          },
          "metadata": {
            "needs_background": "light"
          }
        }
      ]
    },
    {
      "cell_type": "code",
      "source": [
        "df.hist(column = 'priors_count')"
      ],
      "metadata": {
        "colab": {
          "base_uri": "https://localhost:8080/",
          "height": 316
        },
        "id": "jW810-MmquFs",
        "outputId": "ed31a401-227e-4ae3-f7cf-0d6084f08e93"
      },
      "execution_count": 5,
      "outputs": [
        {
          "output_type": "execute_result",
          "data": {
            "text/plain": [
              "array([[<matplotlib.axes._subplots.AxesSubplot object at 0x7f152323a590>]],\n",
              "      dtype=object)"
            ]
          },
          "metadata": {},
          "execution_count": 5
        },
        {
          "output_type": "display_data",
          "data": {
            "text/plain": [
              "<Figure size 432x288 with 1 Axes>"
            ],
            "image/png": "[encoded data removed]"
          },
          "metadata": {
            "needs_background": "light"
          }
        }
      ]
    },
    {
      "cell_type": "code",
      "source": [
        "df.plot.scatter(x = 'age', y = 'priors_count')"
      ],
      "metadata": {
        "colab": {
          "base_uri": "https://localhost:8080/",
          "height": 297
        },
        "id": "sbTnbrjFqxjQ",
        "outputId": "20e4b664-09cf-491c-cdc2-e66abe55099c"
      },
      "execution_count": 6,
      "outputs": [
        {
          "output_type": "execute_result",
          "data": {
            "text/plain": [
              "<matplotlib.axes._subplots.AxesSubplot at 0x7f1522d251d0>"
            ]
          },
          "metadata": {},
          "execution_count": 6
        },
        {
          "output_type": "display_data",
          "data": {
            "text/plain": [
              "<Figure size 432x288 with 1 Axes>"
            ],
            "image/png": "[encoded data removed]"
          },
          "metadata": {
            "needs_background": "light"
          }
        }
      ]
    },
    {
      "cell_type": "code",
      "source": [
        "#Preproccessing\n",
        "features = ['race', 'age', 'sex', 'juv_misd_count', 'priors_count', 'juv_fel_count']\n",
        "predictor = 'two_year_recid'\n",
        "races = ['Caucasian', 'African-American']\n",
        "\n",
        "df = df.loc[df['race'].isin(races), features + [predictor]]\n",
        "\n",
        "# change to bools\n",
        "df['sex'] = df['sex'].replace(['Male'],0)\n",
        "df['sex'] = df['sex'].replace(['Female'],1)\n",
        "\n",
        "df['race'] = df['race'].replace(['African-American'],0)\n",
        "df['race'] = df['race'].replace(['Caucasian'],1)\n",
        "\n",
        "\n",
        "#normalize \n",
        "normalized_df = (df-df.mean())/df.std()\n",
        "\n",
        "df['age'] = normalized_df['age']\n",
        "df['juv_fel_count'] = normalized_df['juv_fel_count']\n",
        "df['juv_misd_count'] = normalized_df['juv_misd_count']\n",
        "df['priors_count'] = normalized_df['priors_count']\n",
        "\n",
        "#separate variables\n",
        "X = df.drop('two_year_recid',axis=1)\n",
        "Y = df['two_year_recid']\n"
      ],
      "metadata": {
        "id": "vrpM8M-bexs6"
      },
      "execution_count": 7,
      "outputs": []
    },
    {
      "cell_type": "code",
      "source": [
        "# model train code\n",
        "def train_model(x, y, x_control, loss_function, apply_fairness_constraints, apply_accuracy_constraint, sensitive_attrs, sensitive_attrs_to_cov_thresh, gamma=None):\n",
        "    assert((apply_accuracy_constraint == 1 and apply_fairness_constraints == 1) == False) # either accuracy or fairness\n",
        "    #print(\"INSIDE TRAIN_MODEL\")\n",
        "    max_iter = 100000 # maximum number of iterations for the minimization algorithm\n",
        "\n",
        "    # Add constraints, in our case fairness of race\n",
        "    if apply_fairness_constraints == 0:\n",
        "        constraints = []\n",
        "\n",
        "    if apply_accuracy_constraint == 0: # just train normally\n",
        "        f_args=(x, y)\n",
        "        w = minimize(fun = loss_function,\n",
        "            x0 = np.random.rand(x.shape[1],),\n",
        "            args = f_args,\n",
        "            method = 'SLSQP',\n",
        "            options = {\"maxiter\":max_iter},\n",
        "            constraints = constraints\n",
        "            )\n",
        "\n",
        "    else:\n",
        "        # train on just the loss function\n",
        "        w = minimize(fun = loss_function,\n",
        "            x0 = np.random.rand(x.shape[1],),\n",
        "            args = (x, y),\n",
        "            method = 'SLSQP',\n",
        "            options = {\"maxiter\":max_iter},\n",
        "            constraints = []\n",
        "            )\n",
        "\n",
        "        old_w = deepcopy(w.x)\n",
        "        #print(\"C!!!!!!!!!!!!!!!!!!!!!!! = \", constraints)\n",
        "        \n",
        "\n",
        "        def constraint_gamma_all(w, x, y,  initial_loss_arr):\n",
        "            \n",
        "            gamma_arr = np.ones_like(y) * gamma \n",
        "            new_loss = loss_function(w, x, y)\n",
        "            old_loss = sum(initial_loss_arr)\n",
        "            return ((1.0 + gamma) * old_loss) - new_loss\n",
        "\n",
        "        constraints = []\n",
        "        predicted_labels = np.sign(np.dot(w.x, x.T))\n",
        "        unconstrained_loss_arr = loss_function(w.x, x, y, return_arr=True)\n",
        "        #print(\"C!!!!!!!!!!!!!!!!!!!!!!! = \", constraints)\n",
        "\n",
        "        c = ({'type': 'ineq', 'fun': constraint_gamma_all, 'args':(x,y,unconstrained_loss_arr)})\n",
        "        constraints.append(c)\n",
        "\n",
        "\n",
        "        def cross_cov_abs_optm_func(weight_vec, x_in, x_control_in_arr):\n",
        "            cross_cov = (x_control_in_arr - np.mean(x_control_in_arr)) * np.dot(weight_vec, x_in.T)\n",
        "            return float(abs(sum(cross_cov))) / float(x_in.shape[0])\n",
        "\n",
        "\n",
        "        w = minimize(fun = cross_cov_abs_optm_func,\n",
        "            x0 = old_w,\n",
        "            args = (x, x_control[sensitive_attrs[0]]),\n",
        "            method = 'SLSQP',\n",
        "            options = {\"maxiter\":100000},\n",
        "            constraints = constraints\n",
        "            )\n",
        "\n",
        "    return w.x\n",
        "\n",
        "\n",
        "def _logistic_loss(w, X, y, return_arr=None):\n",
        "\t\"\"\"Computes the logistic loss.\n",
        "\n",
        "  https://scikit-learn.org/stable/modules/generated/sklearn.metrics.log_loss.html\n",
        "\t\"\"\"\n",
        "\tyz = y * np.dot(X,w)\n",
        "\n",
        "\tif return_arr == True:\n",
        "\t\tout = -(log_logistic(yz))\n",
        "\telse:\n",
        "\t\tout = -np.sum(log_logistic(yz))\n",
        "\treturn out\n",
        "\n",
        "\n",
        "def log_logistic(X):\n",
        "  ## http://fa.bianp.net/blog/2013/numerical-optimizers-for-logistic-regression/\n",
        "  if X.ndim > 1: raise Exception(\"Array of samples cannot be more than 1-D!\")\n",
        "  out = np.empty_like(X) \n",
        "  idx = X>0\n",
        "  out[idx] = -np.log(1.0 + np.exp(-X[idx]))\n",
        "  out[~idx] = X[~idx] - np.log(1.0 + np.exp(X[~idx]))\n",
        "  return out\n"
      ],
      "metadata": {
        "id": "BYKlwEh2fiNM"
      },
      "execution_count": 8,
      "outputs": []
    },
    {
      "cell_type": "code",
      "source": [
        "#Logistic Regression\n",
        "\n",
        "#From \"Fairness Constraints: Mechanisms for Fair Classification\"\n",
        "\n",
        "\n",
        "#train/test split\n",
        "train_size = 5000\n",
        "x_train = df.loc[:train_size, features]\n",
        "y_train = df.loc[:train_size, predictor]\n",
        "x_test = df.loc[train_size:, features]\n",
        "y_test = df.loc[train_size:, predictor]\n",
        "x_control = {'race': x_train['race'].to_list()}\n",
        "\n",
        "#base train, no constraints\n",
        "apply_fairness_constraints = 0\n",
        "apply_accuracy_constraint = 0\n",
        "gamma = 0\n",
        "sensitive_attrs = []\n",
        "sensitive_attrs_to_cov_thresh = {}\n",
        "\n",
        "#coefficients from training the model\n",
        "train_plain = train_model(x_train.to_numpy(),\n",
        "                y_train.to_numpy(),\n",
        "                x_control,\n",
        "                _logistic_loss,\n",
        "                apply_fairness_constraints,\n",
        "                apply_accuracy_constraint,\n",
        "                sensitive_attrs,\n",
        "                sensitive_attrs_to_cov_thresh,\n",
        "                gamma)\n",
        "\n",
        "print(\"Coeffs from training: \")\n",
        "train_plain"
      ],
      "metadata": {
        "colab": {
          "base_uri": "https://localhost:8080/"
        },
        "id": "8rYEs-H-fTWl",
        "outputId": "657f322f-a6d9-40cc-e3a7-afc7d7193f1f"
      },
      "execution_count": 9,
      "outputs": [
        {
          "output_type": "stream",
          "name": "stdout",
          "text": [
            "Coeffs from training: \n"
          ]
        },
        {
          "output_type": "execute_result",
          "data": {
            "text/plain": [
              "array([ 1.90993132e+01, -1.40655032e+00,  1.77789945e+01, -1.13461746e-01,\n",
              "        1.15905096e+00, -6.95941580e-03])"
            ]
          },
          "metadata": {},
          "execution_count": 9
        }
      ]
    },
    {
      "cell_type": "code",
      "source": [
        "def compute_p_rule(x_control, class_labels):\n",
        "\n",
        "    \"\"\" Compute the p-rule based on Doctrine of disparate impact \"\"\"\n",
        "    non_prot_all = sum(x_control == 1.0) # non-protected \n",
        "    prot_all = sum(x_control == 0.0) # protected group\n",
        "    non_prot_pos = sum(class_labels[x_control == 1.0] == 1.0) # non_protected in positive class\n",
        "    prot_pos = sum(class_labels[x_control == 0.0] == 1.0) # protected in positive class\n",
        "\n",
        "    frac_non_prot_pos = float(non_prot_pos) / float(non_prot_all)\n",
        "    frac_prot_pos = float(prot_pos) / float(prot_all)\n",
        "    p_rule = (frac_prot_pos / frac_non_prot_pos) * 100.0\n",
        "\n",
        "    print()\n",
        "    print(\"n: %d\" % (len(x_control)))\n",
        "    print(\"# non-protected count: %d\" % (non_prot_all))\n",
        "    print(\"# protected count: %d\" % (prot_all))\n",
        "    print()\n",
        "    print(\"number of non-protected in positive class: %d (%0.0f%%)\" % (non_prot_pos, non_prot_pos * 100.0 / non_prot_all))\n",
        "    print(\"number of protected in positive class: %d (%0.0f%%)\" % (prot_pos, prot_pos * 100.0 / prot_all))\n",
        "    print()\n",
        "    print(\"P-rule is: %0.0f%%\" % ( p_rule ))\n",
        "\n",
        "\n",
        "    return p_rule\n"
      ],
      "metadata": {
        "id": "cP656C6Sg0bX"
      },
      "execution_count": 10,
      "outputs": []
    },
    {
      "cell_type": "code",
      "source": [
        "from sklearn.metrics import classification_report, confusion_matrix\n",
        "from sklearn.linear_model import LogisticRegression\n",
        "\n",
        "m = LogisticRegression()\n",
        "m.coef_= train_plain.reshape((1,-1))\n",
        "m.intercept_ = 0\n",
        "m.classes_ = np.array([0, 1])\n",
        "y_pred = m.predict(x_test[features])\n",
        "\n",
        "print(\"Classification \")\n",
        "print(classification_report(y_test, y_pred))\n",
        "compute_p_rule(x_test['race'], y_pred)\n",
        "\n"
      ],
      "metadata": {
        "colab": {
          "base_uri": "https://localhost:8080/"
        },
        "id": "rlpUfiO2fe-u",
        "outputId": "68c41a38-c5a1-414e-91ef-49605f149a75"
      },
      "execution_count": 11,
      "outputs": [
        {
          "output_type": "stream",
          "name": "stdout",
          "text": [
            "Classification \n",
            "              precision    recall  f1-score   support\n",
            "\n",
            "           0       0.68      0.19      0.29       992\n",
            "           1       0.50      0.90      0.64       887\n",
            "\n",
            "    accuracy                           0.52      1879\n",
            "   macro avg       0.59      0.54      0.47      1879\n",
            "weighted avg       0.59      0.52      0.46      1879\n",
            "\n",
            "\n",
            "n: 1879\n",
            "# non-protected count: 745\n",
            "# protected count: 1134\n",
            "\n",
            "number of non-protected in positive class: 745 (100%)\n",
            "number of protected in positive class: 860 (76%)\n",
            "\n",
            "P-rule is: 76%\n"
          ]
        },
        {
          "output_type": "execute_result",
          "data": {
            "text/plain": [
              "75.83774250440916"
            ]
          },
          "metadata": {},
          "execution_count": 11
        }
      ]
    },
    {
      "cell_type": "code",
      "source": [
        "output = pd.DataFrame({\n",
        "    \"y_test\": y_test,\n",
        "    \"y_pred\": y_pred\n",
        "})\n",
        "\n",
        "#print(output)\n",
        "\n",
        "df_out = pd.merge(df,output,how = 'left',left_index = True, right_index = True)\n",
        "\n",
        "df_out.dropna(inplace=True, subset=['y_test', 'y_pred'])\n",
        "#print(df_out)\n",
        "\n",
        "df_out_protected = df_out[df_out.race == 0]\n",
        "#print(df_out_protected)\n",
        "\n",
        "protected_correct = df_out_protected[df_out_protected.y_test == df_out_protected.y_pred]\n",
        "#print(protected_correct)\n",
        "\n",
        "protected_accuracy = len(df_out_protected[df_out_protected.y_test == df_out_protected.y_pred])/len(df_out_protected)\n",
        "print(\"protected accuracy \", protected_accuracy)\n",
        "\n",
        "df_out_nonprotected = df_out[df_out.race == 1]\n",
        "\n",
        "nonprotected_accuracy = len(df_out_nonprotected[df_out_nonprotected.y_test == df_out_nonprotected.y_pred])/len(df_out_nonprotected)\n",
        "print(\"non-protected accuracy \", nonprotected_accuracy)\n",
        "\n",
        "calibration = abs(protected_accuracy - nonprotected_accuracy)\n",
        "print(\"calibration \", calibration)\n",
        " \n",
        "\n"
      ],
      "metadata": {
        "colab": {
          "base_uri": "https://localhost:8080/"
        },
        "id": "hsnaU9Ponu6R",
        "outputId": "6d720c76-9c34-42a7-99b9-343439ba4515"
      },
      "execution_count": 12,
      "outputs": [
        {
          "output_type": "stream",
          "name": "stdout",
          "text": [
            "protected accuracy  0.6058201058201058\n",
            "non-protected accuracy  0.4\n",
            "calibration  0.2058201058201058\n"
          ]
        }
      ]
    },
    {
      "cell_type": "markdown",
      "source": [
        "Calculate c, constraint covar which balances the trade off between fairness and accuracy"
      ],
      "metadata": {
        "id": "OXCVaX0iVNhu"
      }
    },
    {
      "cell_type": "code",
      "source": [
        "def constraints_covar(x_train, y_train, x_control_train, sensitive_attrs, sensitive_attrs_to_cov_thresh):\n",
        "\n",
        "    #obtians list of constraints to be fed to the minimizer\n",
        "\n",
        "    constraints = []\n",
        "\n",
        "    for attr in sensitive_attrs:\n",
        "        attr_arr = x_control_train[attr]\n",
        "        attr_arr_transformed, index_dict = get_one_hot_encoding(attr_arr)\n",
        "                \n",
        "        if index_dict is None: # binary attribute\n",
        "            thresh = sensitive_attrs_to_cov_thresh[attr]\n",
        "            c = ({'type': 'ineq', 'fun': test_sensitive_attr_constraint_cov, 'args':(x_train, y_train, attr_arr_transformed,thresh, False)})\n",
        "            constraints.append(c)\n",
        "        else: # otherwise, its a categorical attribute, so we need to set the cov thresh for each value separately\n",
        "            for attr_val, ind in index_dict.items():\n",
        "                attr_name = attr_val                \n",
        "                thresh = sensitive_attrs_to_cov_thresh[attr][attr_name]\n",
        "                \n",
        "                t = attr_arr_transformed[:,ind]\n",
        "                c = ({'type': 'ineq', 'fun': test_sensitive_attr_constraint_cov, 'args':(x_train, y_train, t ,thresh, False)})\n",
        "                constraints.append(c)\n",
        "\n",
        "    return constraints\n",
        "\n",
        "def test_sensitive_attr_constraint_cov(model, x_arr, y_arr_dist_boundary, x_control, thresh, verbose):\n",
        "    assert(x_arr.shape[0] == x_control.shape[0])\n",
        "    if len(x_control.shape) > 1: # check\n",
        "        assert(x_control.shape[1] == 1)\n",
        "    \n",
        "    arr = []\n",
        "    if model is None:\n",
        "        arr = y_arr_dist_boundary # outputs\n",
        "    else:\n",
        "        arr = np.dot(model, x_arr.T) # the product with the weight vector -- the sign of this is the output label\n",
        "    \n",
        "    arr = np.array(arr, dtype=np.float64)\n",
        "\n",
        "    cov = np.dot(x_control - np.mean(x_control), arr ) / float(len(x_control))\n",
        "        \n",
        "    ans = thresh - abs(cov) # will be <0 if the covariance is greater than thresh -- that is, the condition is not satisfied\n",
        "    \n",
        "    if verbose is True:\n",
        "        print(\"Covariance is\", cov)\n",
        "        print(\"Diff is:\", ans)\n",
        "        print\n",
        "    return ans\n",
        "\n",
        "\n",
        "def get_one_hot_encoding(in_arr):\n",
        "    for k in in_arr:\n",
        "        if str(type(k)) != \"<type 'numpy.float64'>\" and type(k) != int and type(k) != np.int64:\n",
        "            print(str(type(k)))\n",
        "            print(\"************* ERROR: Input arr does not have integer types\")\n",
        "            return None\n",
        "        \n",
        "    in_arr = np.array(in_arr, dtype=int)\n",
        "    assert(len(in_arr.shape)==1) # no column, means it was a 1-D arr\n",
        "    attr_vals_uniq_sorted = sorted(list(set(in_arr)))\n",
        "    num_uniq_vals = len(attr_vals_uniq_sorted)\n",
        "    if (num_uniq_vals == 2) and (attr_vals_uniq_sorted[0] == 0 and attr_vals_uniq_sorted[1] == 1):\n",
        "        return in_arr, None\n",
        "    \n",
        "    index_dict = {} # value to the column number\n",
        "    for i in range(0,len(attr_vals_uniq_sorted)):\n",
        "        val = attr_vals_uniq_sorted[i]\n",
        "        index_dict[val] = i\n",
        "\n",
        "    out_arr = []    \n",
        "    for i in range(0,len(in_arr)):\n",
        "        tup = np.zeros(num_uniq_vals)\n",
        "        val = in_arr[i]\n",
        "        ind = index_dict[val]\n",
        "        tup[ind] = 1 # set that value of tuple to 1\n",
        "        out_arr.append(tup)\n",
        "\n",
        "    return np.array(out_arr), index_dict"
      ],
      "metadata": {
        "id": "a4dBjwi6hVs8"
      },
      "execution_count": 13,
      "outputs": []
    },
    {
      "cell_type": "code",
      "source": [
        "def add_intercept(x):\n",
        "    m,n = x.shape\n",
        "    intercept = np.ones(m).reshape(m, 1) # the constant b\n",
        "    return np.concatenate((intercept, x), axis = 1)"
      ],
      "metadata": {
        "id": "Iq1OWTNKmjMP"
      },
      "execution_count": 14,
      "outputs": []
    },
    {
      "cell_type": "code",
      "source": [
        "#SVM\n",
        "# google colab\n",
        "#df = pd.read_csv('/content/drive/MyDrive/ADS_Proj4/compas-scores-two-years.csv')\n",
        "\n",
        "#local\n",
        "#df = pd.read_csv('compas-scores-two-years.csv')\n",
        "\n",
        "#universal \n",
        "df = pd.read_csv('https://raw.githubusercontent.com/propublica/compas-analysis/master/compas-scores-two-years.csv')\n",
        "\n",
        "\n",
        "#Preproccessing\n",
        "features = ['race', 'age', 'sex', 'juv_misd_count', 'priors_count', 'juv_fel_count']\n",
        "predictor = 'two_year_recid'\n",
        "races = ['Caucasian', 'African-American']\n",
        "\n",
        "df = df.loc[df['race'].isin(races), features + [predictor]]\n",
        "\n",
        "# change to bools\n",
        "df['sex'] = df['sex'].replace(['Male'],0)\n",
        "df['sex'] = df['sex'].replace(['Female'],1)\n",
        "\n",
        "df['race'] = df['race'].replace(['African-American'],0)\n",
        "df['race'] = df['race'].replace(['Caucasian'],1)\n",
        "\n",
        "\n",
        "#normalize \n",
        "normalized_df = (df-df.mean())/df.std()\n",
        "df['age'] = normalized_df['age']\n",
        "df['juv_fel_count'] = normalized_df['juv_fel_count']\n",
        "df['juv_misd_count'] = normalized_df['juv_misd_count']\n",
        "df['priors_count'] = normalized_df['priors_count']\n",
        "\n",
        "#separate variables\n",
        "X = df.drop('two_year_recid',axis=1)\n",
        "Y = df['two_year_recid']\n",
        "\n",
        "X_train, X_test, y_train, y_test = train_test_split(X, Y, test_size = 0.20)\n",
        "\n",
        "svclassifier = SVC(kernel='linear')\n",
        "svclassifier.fit(X_train, y_train)\n",
        "\n",
        "y_pred = svclassifier.predict(X_test)\n",
        "\n",
        "print(confusion_matrix(y_test,y_pred))\n",
        "print(classification_report(y_test,y_pred))\n",
        "\n",
        "#Add Fairness Constraints and p% evaluation\n",
        "compute_p_rule(X_test['race'], y_pred)\n",
        "\n"
      ],
      "metadata": {
        "colab": {
          "base_uri": "https://localhost:8080/"
        },
        "id": "ROUjgOrLiImW",
        "outputId": "5fb7ec37-f05f-449d-b39e-952982135423"
      },
      "execution_count": 15,
      "outputs": [
        {
          "output_type": "stream",
          "name": "stdout",
          "text": [
            "[[532  94]\n",
            " [370 234]]\n",
            "              precision    recall  f1-score   support\n",
            "\n",
            "           0       0.59      0.85      0.70       626\n",
            "           1       0.71      0.39      0.50       604\n",
            "\n",
            "    accuracy                           0.62      1230\n",
            "   macro avg       0.65      0.62      0.60      1230\n",
            "weighted avg       0.65      0.62      0.60      1230\n",
            "\n",
            "\n",
            "n: 1230\n",
            "# non-protected count: 474\n",
            "# protected count: 756\n",
            "\n",
            "number of non-protected in positive class: 77 (16%)\n",
            "number of protected in positive class: 251 (33%)\n",
            "\n",
            "P-rule is: 204%\n"
          ]
        },
        {
          "output_type": "execute_result",
          "data": {
            "text/plain": [
              "204.38054009482585"
            ]
          },
          "metadata": {},
          "execution_count": 15
        }
      ]
    },
    {
      "cell_type": "code",
      "source": [
        "output = pd.DataFrame({\n",
        "    \"y_test\": y_test,\n",
        "    \"y_pred\": y_pred\n",
        "})\n",
        "\n",
        "df_out = pd.merge(df,output,how = 'left',left_index = True, right_index = True)\n",
        "df_out.dropna(inplace=True)\n",
        "df_out_protected = df_out[df_out.race == 0]\n",
        "\n",
        "#df_out_protected\n",
        "#protected_correct = df_out_protected[df_out_protected.y_test == df_out_protected.y_pred]\n",
        "\n",
        "protected_accuracy = len(df_out_protected[df_out_protected.y_test == df_out_protected.y_pred])/len(df_out_protected)\n",
        "print(\"protected accuracy \", protected_accuracy)\n",
        " \n",
        "df_out_nonprotected = df_out[df_out.race == 1]\n",
        "\n",
        "nonprotected_accuracy = len(df_out_nonprotected[df_out_nonprotected.y_test == df_out_nonprotected.y_pred])/len(df_out_nonprotected)\n",
        "print(\"non-protected accuracy \", nonprotected_accuracy)\n",
        "\n",
        "calibration = abs(protected_accuracy - nonprotected_accuracy)\n",
        "print(\"calibration \", calibration)\n",
        "\n"
      ],
      "metadata": {
        "colab": {
          "base_uri": "https://localhost:8080/"
        },
        "id": "8E4MiDRTahHz",
        "outputId": "8b699067-4603-4899-9b17-0a64f655a4f9"
      },
      "execution_count": 16,
      "outputs": [
        {
          "output_type": "stream",
          "name": "stdout",
          "text": [
            "protected accuracy  0.6256613756613757\n",
            "non-protected accuracy  0.6181434599156118\n",
            "calibration  0.007517915745763881\n"
          ]
        }
      ]
    }
  ]
}